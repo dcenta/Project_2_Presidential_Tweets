{
 "cells": [
  {
   "cell_type": "code",
   "execution_count": null,
   "metadata": {},
   "outputs": [],
   "source": [
    "# IMPORT DEPENDENCIES\n",
    "import pandas as pd\n",
    "import datetime\n",
    "import pymysql"
   ]
  },
  {
   "cell_type": "code",
   "execution_count": null,
   "metadata": {},
   "outputs": [],
   "source": [
    "spOHLC = \"SPY_Exchange_Traded_Fund_OHLC_CandleStickData.csv\"\n",
    "spy_data_df = pd.read_csv(spOHLC, encoding=\"ISO-8859-1\")\n",
    "spy_data_df.head()"
   ]
  },
  {
   "cell_type": "code",
   "execution_count": null,
   "metadata": {},
   "outputs": [],
   "source": [
    "spy_data_df['Date'] =  pd.to_datetime(spy_data_df['Date'], format='%m/%d/%Y')\n",
    "spy_data_df = spy_data_df.sort_values(by=['Date'], ascending=[True])\n",
    "spy_data_df.set_index('Date', inplace=True)\n",
    "print (spy_data_df)\n",
    "spy_data_df = spy_data_df.resample('D').bfill().reset_index()\n",
    "print (spy_data_df)"
   ]
  },
  {
   "cell_type": "code",
   "execution_count": null,
   "metadata": {},
   "outputs": [],
   "source": []
  },
  {
   "cell_type": "code",
   "execution_count": null,
   "metadata": {},
   "outputs": [],
   "source": []
  }
 ],
 "metadata": {
  "kernelspec": {
   "display_name": "Python 3",
   "language": "python",
   "name": "python3"
  },
  "language_info": {
   "codemirror_mode": {
    "name": "ipython",
    "version": 3
   },
   "file_extension": ".py",
   "mimetype": "text/x-python",
   "name": "python",
   "nbconvert_exporter": "python",
   "pygments_lexer": "ipython3",
   "version": "3.6.6"
  }
 },
 "nbformat": 4,
 "nbformat_minor": 2
}
